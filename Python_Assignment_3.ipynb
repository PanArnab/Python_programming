{
 "cells": [
  {
   "cell_type": "code",
   "execution_count": 1,
   "id": "0b23de57",
   "metadata": {},
   "outputs": [
    {
     "name": "stdout",
     "output_type": "stream",
     "text": [
      "Spring\n"
     ]
    }
   ],
   "source": [
    "#1 Function: check_season\n",
    "def check_season(month):\n",
    "    if month in [12, 1, 2]:\n",
    "        return \"Winter\"\n",
    "    elif month in [3, 4, 5]:\n",
    "        return \"Spring\"\n",
    "    elif month in [6, 7, 8]:\n",
    "        return \"Summer\"\n",
    "    elif month in [9, 10, 11]:\n",
    "        return \"Autumn\"\n",
    "    else:\n",
    "        return \"Invalid month\"\n",
    "\n",
    "\n",
    "print(check_season(3))  # Output: Spring\n"
   ]
  },
  {
   "cell_type": "code",
   "execution_count": 2,
   "id": "bc39ec1d",
   "metadata": {},
   "outputs": [
    {
     "name": "stdout",
     "output_type": "stream",
     "text": [
      "1.0\n"
     ]
    }
   ],
   "source": [
    "#2 Function: calculate_slope\n",
    "def calculate_slope(x1, y1, x2, y2):\n",
    "    if x2 - x1 == 0:\n",
    "        return \"Undefined slope\"\n",
    "    return (y2 - y1) / (x2 - x1)\n",
    "\n",
    "\n",
    "print(calculate_slope(1, 2, 3, 4))  # Output: 1.0\n"
   ]
  },
  {
   "cell_type": "code",
   "execution_count": 4,
   "id": "524e07d3",
   "metadata": {},
   "outputs": [
    {
     "name": "stdout",
     "output_type": "stream",
     "text": [
      "(2.0, 1.0)\n",
      "(-1.0,)\n",
      "No real roots\n"
     ]
    }
   ],
   "source": [
    "#3 Function: _solve_quadratic_eqn_\n",
    "import math\n",
    "\n",
    "def solve_quadratic_eqn(a, b, c):\n",
    "    discriminant = b**2 - 4*a*c\n",
    "    if discriminant < 0:\n",
    "        return \"No real roots\"\n",
    "    elif discriminant == 0:\n",
    "        x = -b / (2*a)\n",
    "        return (x,)\n",
    "    else:\n",
    "        x1 = (-b + math.sqrt(discriminant)) / (2*a)\n",
    "        x2 = (-b - math.sqrt(discriminant)) / (2*a)\n",
    "        return (x1, x2)\n",
    "\n",
    "\n",
    "print(solve_quadratic_eqn(1, -3, 2))  \n",
    "print(solve_quadratic_eqn(1, 2, 1))   \n",
    "print(solve_quadratic_eqn(1, 0, 1))   \n",
    "\n"
   ]
  },
  {
   "cell_type": "code",
   "execution_count": 5,
   "id": "7bee2039",
   "metadata": {},
   "outputs": [
    {
     "name": "stdout",
     "output_type": "stream",
     "text": [
      "1\n",
      "2\n",
      "3\n",
      "4\n",
      "5\n"
     ]
    }
   ],
   "source": [
    "#4 Function: print_list\n",
    "def print_list(lst):\n",
    "    for item in lst:\n",
    "        print(item)\n",
    "\n",
    "\n",
    "print_list([1, 2, 3, 4, 5])\n",
    "\n"
   ]
  },
  {
   "cell_type": "code",
   "execution_count": 6,
   "id": "7afbdc61",
   "metadata": {},
   "outputs": [
    {
     "name": "stdout",
     "output_type": "stream",
     "text": [
      "[5, 4, 3, 2, 1]\n"
     ]
    }
   ],
   "source": [
    "#5 Function: reverse_list\n",
    "def reverse_list(arr):\n",
    "    reversed_arr = []\n",
    "    for i in range(len(arr) - 1, -1, -1):\n",
    "        reversed_arr.append(arr[i])\n",
    "    return reversed_arr\n",
    "\n",
    "\n",
    "print(reverse_list([1, 2, 3, 4, 5])) \n"
   ]
  },
  {
   "cell_type": "code",
   "execution_count": 7,
   "id": "0a71e12c",
   "metadata": {},
   "outputs": [
    {
     "name": "stdout",
     "output_type": "stream",
     "text": [
      "0.7833333333333332\n",
      "0.6456349206349207\n"
     ]
    }
   ],
   "source": [
    "#6 Sum of series up to n terms\n",
    "def sum_series(n):\n",
    "    total = 0\n",
    "    for i in range(1, n + 1):\n",
    "        if i % 2 == 0:\n",
    "            total -= 1 / i\n",
    "        else:\n",
    "            total += 1 / i\n",
    "    return total\n",
    "\n",
    "\n",
    "print(sum_series(5))  \n",
    "print(sum_series(10)) \n"
   ]
  },
  {
   "cell_type": "code",
   "execution_count": 8,
   "id": "bc2ea9fa",
   "metadata": {},
   "outputs": [
    {
     "name": "stdout",
     "output_type": "stream",
     "text": [
      "1.0\n",
      "-5.28918280357759e-10\n"
     ]
    }
   ],
   "source": [
    "#7 Compute sin(x) for given x and n\n",
    "import math\n",
    "\n",
    "def compute_sin(x, n):\n",
    "    sin_x = 0\n",
    "    for i in range(n):\n",
    "        sign = (-1)**i\n",
    "        sin_x += sign * (x**(2*i + 1)) / math.factorial(2*i + 1)\n",
    "    return sin_x\n",
    "\n",
    "print(compute_sin(math.pi/2, 10))  \n",
    "print(compute_sin(math.pi, 10))    \n"
   ]
  },
  {
   "cell_type": "code",
   "execution_count": 9,
   "id": "0044579a",
   "metadata": {},
   "outputs": [
    {
     "name": "stdout",
     "output_type": "stream",
     "text": [
      "-3.3769215522516056e-15\n",
      "1.0\n"
     ]
    }
   ],
   "source": [
    "#8 Compute cos(x) for given x and n\n",
    "import math\n",
    "\n",
    "def compute_cos(x, n):\n",
    "    cos_x = 0\n",
    "    for i in range(n):\n",
    "        sign = (-1)**i\n",
    "        cos_x += sign * (x**(2*i)) / math.factorial(2*i)\n",
    "    return cos_x\n",
    "\n",
    "\n",
    "print(compute_cos(math.pi/2, 10))  \n",
    "print(compute_cos(0, 10))          \n"
   ]
  },
  {
   "cell_type": "code",
   "execution_count": 10,
   "id": "b16495c4",
   "metadata": {},
   "outputs": [
    {
     "name": "stdout",
     "output_type": "stream",
     "text": [
      " /\\\n",
      "/  \\\n",
      " /\\\n",
      "/__\\\n"
     ]
    }
   ],
   "source": [
    "#9 Print pattern up to N lines\n",
    "def print_pattern(N):\n",
    "    for i in range(1, N + 1):\n",
    "        for j in range(N - i):\n",
    "            print(\" \", end=\"\")\n",
    "        print(\"/\" + \" \" * (2*i - 2) + \"\\\\\")\n",
    "\n",
    "    for i in range(1, N + 1):\n",
    "        for j in range(N - i):\n",
    "            print(\" \", end=\"\")\n",
    "        print(\"/\" + \"_\" * (2*i - 2) + \"\\\\\")\n",
    "\n",
    "\n",
    "print_pattern(2)"
   ]
  },
  {
   "cell_type": "code",
   "execution_count": 11,
   "id": "31e485a4",
   "metadata": {},
   "outputs": [
    {
     "name": "stdout",
     "output_type": "stream",
     "text": [
      " _ \n",
      "| |\n",
      "|_|\n",
      "   \n"
     ]
    }
   ],
   "source": [
    "#10 Print number as an 8-segment display\n",
    "def print_segment_display(N):\n",
    "    segment_display = [\n",
    "        \" _ \",\n",
    "        \"| |\",\n",
    "        \"|_|\",\n",
    "        \"   \",\n",
    "        \"  |\",\n",
    "        \" _|\",\n",
    "        \"|_ \",\n",
    "    ]\n",
    "    \n",
    "    for i in range(N):\n",
    "        print(segment_display[i % len(segment_display)])\n",
    "print_segment_display(4)"
   ]
  },
  {
   "cell_type": "code",
   "execution_count": 12,
   "id": "6880731c",
   "metadata": {},
   "outputs": [
    {
     "name": "stdout",
     "output_type": "stream",
     "text": [
      "1 2\n",
      "4 3\n",
      "1 2 3\n",
      "8 9 4\n",
      "7 6 5\n",
      "1 2 3 4\n",
      "12 13 14 5\n",
      "11 16 15 6\n",
      "10 9 8 7\n"
     ]
    }
   ],
   "source": [
    "#11 Print pattern up to N lines (spiral matrix)\n",
    "def print_spiral_matrix(N):\n",
    "    matrix = [[0] * N for _ in range(N)]\n",
    "    val = 1\n",
    "    top, left = 0, 0\n",
    "    bottom, right = N - 1, N - 1\n",
    "\n",
    "    while val <= N * N:\n",
    "        for i in range(left, right + 1):\n",
    "            matrix[top][i] = val\n",
    "            val += 1\n",
    "        top += 1\n",
    "\n",
    "        for i in range(top, bottom + 1):\n",
    "            matrix[i][right] = val\n",
    "            val += 1\n",
    "        right -= 1\n",
    "\n",
    "        for i in range(right, left - 1, -1):\n",
    "            matrix[bottom][i] = val\n",
    "            val += 1\n",
    "        bottom -= 1\n",
    "\n",
    "        for i in range(bottom, top - 1, -1):\n",
    "            matrix[i][left] = val\n",
    "            val += 1\n",
    "        left += 1\n",
    "\n",
    "    for row in matrix:\n",
    "        print(\" \".join(map(str, row)))\n",
    "\n",
    "print_spiral_matrix(2)\n",
    "\n",
    "print_spiral_matrix(3)\n",
    "\n",
    "print_spiral_matrix(4)"
   ]
  },
  {
   "cell_type": "code",
   "execution_count": 13,
   "id": "06ad0584",
   "metadata": {},
   "outputs": [
    {
     "name": "stdout",
     "output_type": "stream",
     "text": [
      "1 1 1 1 1\n",
      "2 1 2 4 8\n",
      "3 1 3 9 27\n",
      "4 1 4 16 64\n",
      "5 1 5 25 125\n"
     ]
    }
   ],
   "source": [
    "#12 Display the following table\n",
    "def display_table():\n",
    "    for i in range(1, 6):\n",
    "        print(f\"{i} {1} {i} {i*i} {i*i*i}\")\n",
    "\n",
    "display_table()"
   ]
  },
  {
   "cell_type": "code",
   "execution_count": 14,
   "id": "a6ac0fde",
   "metadata": {},
   "outputs": [],
   "source": [
    "#Miscellaneous"
   ]
  },
  {
   "cell_type": "code",
   "execution_count": 15,
   "id": "ea8c16ec",
   "metadata": {},
   "outputs": [
    {
     "name": "stdout",
     "output_type": "stream",
     "text": [
      "3\n",
      "2\n"
     ]
    }
   ],
   "source": [
    "#1 Implement Stack using array\n",
    "class Stack:\n",
    "    def __init__(self):\n",
    "        self.stack = []\n",
    "\n",
    "    def push(self, value):\n",
    "        self.stack.append(value)\n",
    "\n",
    "    def pop(self):\n",
    "        if not self.is_empty():\n",
    "            return self.stack.pop()\n",
    "        return \"Stack is empty\"\n",
    "\n",
    "    def is_empty(self):\n",
    "        return len(self.stack) == 0\n",
    "\n",
    "    def peek(self):\n",
    "        if not self.is_empty():\n",
    "            return self.stack[-1]\n",
    "        return \"Stack is empty\"\n",
    "\n",
    "stack = Stack()\n",
    "stack.push(1)\n",
    "stack.push(2)\n",
    "stack.push(3)\n",
    "print(stack.pop())  \n",
    "print(stack.peek()) "
   ]
  },
  {
   "cell_type": "code",
   "execution_count": 16,
   "id": "1b8c47e1",
   "metadata": {},
   "outputs": [
    {
     "name": "stdout",
     "output_type": "stream",
     "text": [
      "1\n",
      "2\n"
     ]
    }
   ],
   "source": [
    "#2 Implement Queue using array\n",
    "class Queue:\n",
    "    def __init__(self):\n",
    "        self.queue = []\n",
    "\n",
    "    def enqueue(self, value):\n",
    "        self.queue.append(value)\n",
    "\n",
    "    def dequeue(self):\n",
    "        if not self.is_empty():\n",
    "            return self.queue.pop(0)\n",
    "        return \"Queue is empty\"\n",
    "\n",
    "    def is_empty(self):\n",
    "        return len(self.queue) == 0\n",
    "\n",
    "    def front(self):\n",
    "        if not self.is_empty():\n",
    "            return self.queue[0]\n",
    "        return \"Queue is empty\"\n",
    "\n",
    "queue = Queue()\n",
    "queue.enqueue(1)\n",
    "queue.enqueue(2)\n",
    "queue.enqueue(3)\n",
    "print(queue.dequeue())  \n",
    "print(queue.front())    "
   ]
  },
  {
   "cell_type": "code",
   "execution_count": 17,
   "id": "784caf1f",
   "metadata": {},
   "outputs": [
    {
     "name": "stdout",
     "output_type": "stream",
     "text": [
      "[[6, 8], [10, 12]]\n"
     ]
    }
   ],
   "source": [
    "#3 Calculate Sum of two 2-dimensional arrays\n",
    "def sum_of_2d_arrays(arr1, arr2):\n",
    "    result = [[arr1[i][j] + arr2[i][j] for j in range(len(arr1[0]))] for i in range(len(arr1))]\n",
    "    return result\n",
    "\n",
    "arr1 = [[1, 2], [3, 4]]\n",
    "arr2 = [[5, 6], [7, 8]]\n",
    "result = sum_of_2d_arrays(arr1, arr2)\n",
    "print(result)\n"
   ]
  },
  {
   "cell_type": "code",
   "execution_count": 18,
   "id": "4545f722",
   "metadata": {},
   "outputs": [
    {
     "name": "stdout",
     "output_type": "stream",
     "text": [
      "4\n"
     ]
    }
   ],
   "source": [
    "#4 Find the range of a 1D array\n",
    "def range_of_array(arr):\n",
    "    return max(arr) - min(arr)\n",
    "\n",
    "arr = [1, 2, 3, 4, 5]\n",
    "print(range_of_array(arr)) \n"
   ]
  },
  {
   "cell_type": "code",
   "execution_count": 19,
   "id": "50a491ce",
   "metadata": {},
   "outputs": [
    {
     "name": "stdout",
     "output_type": "stream",
     "text": [
      "2\n",
      "-1\n"
     ]
    }
   ],
   "source": [
    "#5 Search an element in an array\n",
    "def search_element(arr, element):\n",
    "    if element in arr:\n",
    "        return arr.index(element)\n",
    "    return -1\n",
    "\n",
    "arr = [1, 2, 3, 4, 5]\n",
    "print(search_element(arr, 3))  \n",
    "print(search_element(arr, 6))  "
   ]
  },
  {
   "cell_type": "code",
   "execution_count": 20,
   "id": "51fb0852",
   "metadata": {},
   "outputs": [
    {
     "name": "stdout",
     "output_type": "stream",
     "text": [
      "6\n"
     ]
    }
   ],
   "source": [
    "#6 Find the sum of even numbers in an integer array\n",
    "def sum_of_even_numbers(arr):\n",
    "    return sum([x for x in arr if x % 2 == 0])\n",
    "\n",
    "arr = [1, 2, 3, 4, 5]\n",
    "print(sum_of_even_numbers(arr))  \n"
   ]
  },
  {
   "cell_type": "code",
   "execution_count": 21,
   "id": "80feafa1",
   "metadata": {},
   "outputs": [
    {
     "name": "stdout",
     "output_type": "stream",
     "text": [
      "15\n"
     ]
    }
   ],
   "source": [
    "#7 Find the sum of diagonal elements in a 2D array\n",
    "def sum_of_diagonal_elements(arr):\n",
    "    return sum(arr[i][i] for i in range(len(arr)))\n",
    "\n",
    "arr = [[1, 2, 3], [4, 5, 6], [7, 8, 9]]\n",
    "print(sum_of_diagonal_elements(arr)) \n"
   ]
  },
  {
   "cell_type": "code",
   "execution_count": 22,
   "id": "f6e3b057",
   "metadata": {},
   "outputs": [
    {
     "name": "stdout",
     "output_type": "stream",
     "text": [
      "[5, 4, 3, 2, 1]\n"
     ]
    }
   ],
   "source": [
    "#8 Reverse the elements in an array of integers without using a second array\n",
    "def reverse_array(arr):\n",
    "    left = 0\n",
    "    right = len(arr) - 1\n",
    "    while left < right:\n",
    "        arr[left], arr[right] = arr[right], arr[left]\n",
    "        left += 1\n",
    "        right -= 1\n",
    "    return arr\n",
    "\n",
    "arr = [1, 2, 3, 4, 5]\n",
    "print(reverse_array(arr))  \n"
   ]
  },
  {
   "cell_type": "code",
   "execution_count": 23,
   "id": "2cce1cb7",
   "metadata": {},
   "outputs": [
    {
     "name": "stdout",
     "output_type": "stream",
     "text": [
      "1\n"
     ]
    }
   ],
   "source": [
    "#9 Find the smallest number in an array\n",
    "def find_smallest_number(arr):\n",
    "    return min(arr)\n",
    "\n",
    "arr = [1, 2, 3, 4, 5]\n",
    "print(find_smallest_number(arr))  "
   ]
  },
  {
   "cell_type": "code",
   "execution_count": 24,
   "id": "0c7eccdf",
   "metadata": {},
   "outputs": [
    {
     "name": "stdout",
     "output_type": "stream",
     "text": [
      "25\n"
     ]
    }
   ],
   "source": [
    "#10 Find the sum of all odd numbers in a 2D array\n",
    "def sum_of_odd_numbers_2d(arr):\n",
    "    return sum([x for row in arr for x in row if x % 2 != 0])\n",
    "\n",
    "arr = [[1, 2, 3], [4, 5, 6], [7, 8, 9]]\n",
    "print(sum_of_odd_numbers_2d(arr))  \n"
   ]
  },
  {
   "cell_type": "code",
   "execution_count": 25,
   "id": "22f09d15",
   "metadata": {},
   "outputs": [
    {
     "name": "stdout",
     "output_type": "stream",
     "text": [
      "[1, 3, 5]\n",
      "[2, 4, 6]\n"
     ]
    }
   ],
   "source": [
    "#11 Print transpose of a matrix\n",
    "def transpose_matrix(matrix):\n",
    "    return [[matrix[j][i] for j in range(len(matrix))] for i in range(len(matrix[0]))]\n",
    "\n",
    "matrix = [[1, 2], [3, 4], [5, 6]]\n",
    "transposed = transpose_matrix(matrix)\n",
    "for row in transposed:\n",
    "    print(row)"
   ]
  },
  {
   "cell_type": "code",
   "execution_count": null,
   "id": "92a29365",
   "metadata": {},
   "outputs": [],
   "source": []
  }
 ],
 "metadata": {
  "kernelspec": {
   "display_name": "Python 3 (ipykernel)",
   "language": "python",
   "name": "python3"
  },
  "language_info": {
   "codemirror_mode": {
    "name": "ipython",
    "version": 3
   },
   "file_extension": ".py",
   "mimetype": "text/x-python",
   "name": "python",
   "nbconvert_exporter": "python",
   "pygments_lexer": "ipython3",
   "version": "3.11.7"
  }
 },
 "nbformat": 4,
 "nbformat_minor": 5
}
