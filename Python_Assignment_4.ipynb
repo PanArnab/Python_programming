{
 "cells": [
  {
   "cell_type": "code",
   "execution_count": 2,
   "id": "06426196",
   "metadata": {},
   "outputs": [
    {
     "name": "stdout",
     "output_type": "stream",
     "text": [
      "Length of the string: 73\n",
      "The substring \"country\" is found in the string.\n",
      "Word occurrences:\n",
      "India: 2\n",
      "is: 2\n",
      "my: 2\n",
      "motherland: 1\n",
      "I: 1\n",
      "love: 1\n",
      "country: 1\n",
      "Capital: 1\n",
      "of: 1\n",
      "New: 1\n",
      "Delhi: 1\n"
     ]
    }
   ],
   "source": [
    "#1.String Analysis\n",
    "\n",
    "input_string = \"India is my motherland. I love my country. Capital of India is New Delhi.\"\n",
    "\n",
    "length_of_string = len(input_string)\n",
    "print(\"Length of the string:\", length_of_string)\n",
    "\n",
    "substring = \"country\"\n",
    "if substring in input_string:\n",
    "    print(f'The substring \"{substring}\" is found in the string.')\n",
    "else:\n",
    "    print(f'The substring \"{substring}\" is not found in the string.')\n",
    "\n",
    "word_list = input_string.replace('.', '').split()\n",
    "word_count = {}\n",
    "for word in word_list:\n",
    "    word_count[word] = word_count.get(word, 0) + 1\n",
    "\n",
    "print(\"Word occurrences:\")\n",
    "for word, count in word_count.items():\n",
    "    print(f\"{word}: {count}\")"
   ]
  },
  {
   "cell_type": "code",
   "execution_count": 3,
   "id": "a1f6b1f8",
   "metadata": {},
   "outputs": [
    {
     "name": "stdout",
     "output_type": "stream",
     "text": [
      "bag,hello,without,world\n"
     ]
    }
   ],
   "source": [
    "#2. Alphabetical Sorting of Words\n",
    "\n",
    "input_words = \"without,hello,bag,world\"\n",
    "words_list = input_words.split(',')\n",
    "\n",
    "sorted_words = sorted(words_list)\n",
    "output = \",\".join(sorted_words)\n",
    "\n",
    "print(output)\n"
   ]
  },
  {
   "cell_type": "code",
   "execution_count": 4,
   "id": "95222d33",
   "metadata": {},
   "outputs": [
    {
     "name": "stdout",
     "output_type": "stream",
     "text": [
      "HELLO WORLD\n",
      "PRACTICE MAKES PERFECT\n"
     ]
    }
   ],
   "source": [
    "#3. Capitalize All Characters\n",
    "\n",
    "lines = [\"Hello world\", \"Practice makes perfect\"]\n",
    "\n",
    "capitalized_lines = [line.upper() for line in lines]\n",
    "\n",
    "for line in capitalized_lines:\n",
    "    print(line)"
   ]
  },
  {
   "cell_type": "code",
   "execution_count": 5,
   "id": "80b124a1",
   "metadata": {},
   "outputs": [
    {
     "name": "stdout",
     "output_type": "stream",
     "text": [
      "again and hello makes perfect practice world\n"
     ]
    }
   ],
   "source": [
    "#4. Remove Duplicates and Sort\n",
    "\n",
    "input_sentence = \"hello world and practice makes perfect and hello world again\"\n",
    "words_list = input_sentence.split()\n",
    "\n",
    "unique_words = sorted(set(words_list))\n",
    "\n",
    "output = \" \".join(unique_words)\n",
    "print(output)"
   ]
  },
  {
   "cell_type": "code",
   "execution_count": 6,
   "id": "e749f95c",
   "metadata": {},
   "outputs": [
    {
     "name": "stdout",
     "output_type": "stream",
     "text": [
      "LETTERS 10\n",
      "DIGITS 3\n"
     ]
    }
   ],
   "source": [
    "#5. Count Letters and Digits\n",
    "\n",
    "input_sentence = \"hello world! 123\"\n",
    "\n",
    "letters = sum(c.isalpha() for c in input_sentence)\n",
    "digits = sum(c.isdigit() for c in input_sentence)\n",
    "\n",
    "print(\"LETTERS\", letters)\n",
    "print(\"DIGITS\", digits)"
   ]
  },
  {
   "cell_type": "code",
   "execution_count": 7,
   "id": "8e3b37a4",
   "metadata": {},
   "outputs": [
    {
     "name": "stdout",
     "output_type": "stream",
     "text": [
      "Enter a string: yes\n",
      "Yes\n"
     ]
    }
   ],
   "source": [
    "#6. Yes or No Checker\n",
    "\n",
    "input_string = input(\"Enter a string: \")\n",
    "\n",
    "if input_string.lower() == \"yes\":\n",
    "    print(\"Yes\")\n",
    "else:\n",
    "    print(\"No\")\n"
   ]
  },
  {
   "cell_type": "code",
   "execution_count": 8,
   "id": "92092fb1",
   "metadata": {},
   "outputs": [
    {
     "name": "stdout",
     "output_type": "stream",
     "text": [
      "['2', '3']\n"
     ]
    }
   ],
   "source": [
    "#7. Extract Digits Only\n",
    "\n",
    "input_sentence = \"2 cats and 3 dogs.\"\n",
    "\n",
    "digit_words = [word for word in input_sentence.split() if word.isdigit()]\n",
    "\n",
    "print(digit_words)\n"
   ]
  },
  {
   "cell_type": "code",
   "execution_count": 9,
   "id": "c9f392eb",
   "metadata": {},
   "outputs": [
    {
     "name": "stdout",
     "output_type": "stream",
     "text": [
      "a,2\n",
      "b,2\n",
      "c,2\n",
      "d,1\n",
      "e,1\n",
      "f,1\n",
      "g,1\n"
     ]
    }
   ],
   "source": [
    "#8. Count Each Character in a String\n",
    "\n",
    "input_string = \"abcdefgabc\"\n",
    "\n",
    "char_count = {}\n",
    "for char in input_string:\n",
    "    char_count[char] = char_count.get(char, 0) + 1\n",
    "\n",
    "for char, count in char_count.items():\n",
    "    print(f\"{char},{count}\")\n"
   ]
  },
  {
   "cell_type": "code",
   "execution_count": 10,
   "id": "d912645c",
   "metadata": {},
   "outputs": [
    {
     "name": "stdout",
     "output_type": "stream",
     "text": [
      "Reversed string: madam\n",
      "Is palindrome: True\n",
      "Ends with 'dam': True\n",
      "Capitalized: Madam\n",
      "Is anagram: True\n",
      "String without vowels: mdm\n",
      "Length of the longest word: 8\n"
     ]
    }
   ],
   "source": [
    "#9. String Operations\n",
    "\n",
    "input_string = \"madam\"\n",
    "\n",
    "# 1. Reverse the string\n",
    "reversed_string = input_string[::-1]\n",
    "print(\"Reversed string:\", reversed_string)\n",
    "\n",
    "# 2. Check if the string is a palindrome\n",
    "is_palindrome = input_string == reversed_string\n",
    "print(\"Is palindrome:\", is_palindrome)\n",
    "\n",
    "# 3. Check if the string ends with a specific substring\n",
    "substring = \"dam\"\n",
    "ends_with = input_string.endswith(substring)\n",
    "print(f\"Ends with '{substring}':\", ends_with)\n",
    "\n",
    "# 4. Capitalize the first letter of each word\n",
    "capitalized_string = input_string.title()\n",
    "print(\"Capitalized:\", capitalized_string)\n",
    "\n",
    "# 5. Check if a string is anagram of another string\n",
    "def is_anagram(str1, str2):\n",
    "    return sorted(str1) == sorted(str2)\n",
    "\n",
    "anagram_string = \"madma\"\n",
    "print(\"Is anagram:\", is_anagram(input_string, anagram_string))\n",
    "\n",
    "# 6. Remove vowels from the string\n",
    "vowels = \"aeiouAEIOU\"\n",
    "no_vowels_string = ''.join([char for char in input_string if char not in vowels])\n",
    "print(\"String without vowels:\", no_vowels_string)\n",
    "\n",
    "# 7. Find the length of the longest word in a sentence\n",
    "sentence = \"Practice makes perfect\"\n",
    "words = sentence.split()\n",
    "longest_word_length = max(len(word) for word in words)\n",
    "print(\"Length of the longest word:\", longest_word_length)\n"
   ]
  },
  {
   "cell_type": "code",
   "execution_count": null,
   "id": "55d77e95",
   "metadata": {},
   "outputs": [],
   "source": []
  }
 ],
 "metadata": {
  "kernelspec": {
   "display_name": "Python 3 (ipykernel)",
   "language": "python",
   "name": "python3"
  },
  "language_info": {
   "codemirror_mode": {
    "name": "ipython",
    "version": 3
   },
   "file_extension": ".py",
   "mimetype": "text/x-python",
   "name": "python",
   "nbconvert_exporter": "python",
   "pygments_lexer": "ipython3",
   "version": "3.11.7"
  }
 },
 "nbformat": 4,
 "nbformat_minor": 5
}
