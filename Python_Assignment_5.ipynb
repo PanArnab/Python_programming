{
 "cells": [
  {
   "cell_type": "code",
   "execution_count": 1,
   "id": "535ff072",
   "metadata": {},
   "outputs": [
    {
     "name": "stdout",
     "output_type": "stream",
     "text": [
      "Sorted ages: [19, 19, 20, 22, 24, 24, 24, 25, 25, 26]\n",
      "Min age: 19\n",
      "Max age: 26\n",
      "Ages after adding min and max again: [19, 19, 20, 22, 24, 24, 24, 25, 25, 26, 19, 26]\n",
      "Median age: 24.0\n",
      "Average age: 22.75\n",
      "Range of ages: 7\n",
      "Difference between min and average: 3.75\n",
      "Difference between max and average: 3.25\n"
     ]
    }
   ],
   "source": [
    "#1. List Operations on Student Ages\n",
    "\n",
    "ages = [19, 22, 19, 24, 20, 25, 26, 24, 25, 24]\n",
    "\n",
    "# I. Sort the list and find the min and max age\n",
    "ages.sort()\n",
    "min_age = ages[0]\n",
    "max_age = ages[-1]\n",
    "print(\"Sorted ages:\", ages)\n",
    "print(\"Min age:\", min_age)\n",
    "print(\"Max age:\", max_age)\n",
    "\n",
    "# II. Add the min age and the max age again to the list\n",
    "ages.extend([min_age, max_age])\n",
    "print(\"Ages after adding min and max again:\", ages)\n",
    "\n",
    "# III. Find the median age\n",
    "n = len(ages)\n",
    "if n % 2 == 0:\n",
    "    median_age = (ages[n//2 - 1] + ages[n//2]) / 2\n",
    "else:\n",
    "    median_age = ages[n//2]\n",
    "print(\"Median age:\", median_age)\n",
    "\n",
    "# IV. Find the average age\n",
    "average_age = sum(ages) / n\n",
    "print(\"Average age:\", average_age)\n",
    "\n",
    "# V. Find the range of the ages (max minus min)\n",
    "range_of_ages = max_age - min_age\n",
    "print(\"Range of ages:\", range_of_ages)\n",
    "\n",
    "# VI. Compare (min - average) and (max - average) using abs() method\n",
    "diff_min_avg = abs(min_age - average_age)\n",
    "diff_max_avg = abs(max_age - average_age)\n",
    "print(\"Difference between min and average:\", diff_min_avg)\n",
    "print(\"Difference between max and average:\", diff_max_avg)\n"
   ]
  },
  {
   "cell_type": "code",
   "execution_count": 2,
   "id": "f7123199",
   "metadata": {},
   "outputs": [
    {
     "name": "stdout",
     "output_type": "stream",
     "text": [
      "Python\n",
      "Numpy\n",
      "Pandas\n",
      "Django\n",
      "Flask\n"
     ]
    }
   ],
   "source": [
    "#2. Iterate Through a List\n",
    "\n",
    "technologies = ['Python', 'Numpy', 'Pandas', 'Django', 'Flask']\n",
    "\n",
    "for tech in technologies:\n",
    "    print(tech)\n"
   ]
  },
  {
   "cell_type": "code",
   "execution_count": 3,
   "id": "2f3eff58",
   "metadata": {},
   "outputs": [
    {
     "name": "stdout",
     "output_type": "stream",
     "text": [
      "Food stuff (tuple): ('apple', 'banana', 'cherry', 'carrot', 'broccoli', 'spinach', 'milk', 'cheese', 'egg')\n",
      "Food stuff (list): ['apple', 'banana', 'cherry', 'carrot', 'broccoli', 'spinach', 'milk', 'cheese', 'egg']\n",
      "Middle item(s): broccoli\n",
      "First three items: ['apple', 'banana', 'cherry']\n",
      "Last three items: ['milk', 'cheese', 'egg']\n"
     ]
    }
   ],
   "source": [
    "#3. Tuple Operations\n",
    "\n",
    "# Tuples\n",
    "fruits = ('apple', 'banana', 'cherry')\n",
    "vegetables = ('carrot', 'broccoli', 'spinach')\n",
    "animal_products = ('milk', 'cheese', 'egg')\n",
    "\n",
    "# I. Join the three tuples\n",
    "food_stuff_tp = fruits + vegetables + animal_products\n",
    "print(\"Food stuff (tuple):\", food_stuff_tp)\n",
    "\n",
    "# II. Convert the tuple to a list\n",
    "food_stuff_lt = list(food_stuff_tp)\n",
    "print(\"Food stuff (list):\", food_stuff_lt)\n",
    "\n",
    "# III. Slice out the middle item(s)\n",
    "middle_index = len(food_stuff_lt) // 2\n",
    "if len(food_stuff_lt) % 2 == 0:\n",
    "    middle_items = food_stuff_lt[middle_index-1:middle_index+1]\n",
    "else:\n",
    "    middle_items = food_stuff_lt[middle_index]\n",
    "print(\"Middle item(s):\", middle_items)\n",
    "\n",
    "# IV. Slice out the first three items and the last three items\n",
    "first_three = food_stuff_lt[:3]\n",
    "last_three = food_stuff_lt[-3:]\n",
    "print(\"First three items:\", first_three)\n",
    "print(\"Last three items:\", last_three)\n",
    "\n",
    "# V. Delete the tuple completely\n",
    "del food_stuff_tp\n"
   ]
  },
  {
   "cell_type": "code",
   "execution_count": 4,
   "id": "b26bd0ed",
   "metadata": {},
   "outputs": [
    {
     "name": "stdout",
     "output_type": "stream",
     "text": [
      "Length of it_companies: 7\n",
      "it_companies after adding Twitter: {'Amazon', 'Oracle', 'IBM', 'Microsoft', 'Facebook', 'Twitter', 'Apple', 'Google'}\n",
      "it_companies after adding multiple companies: {'Twitter', 'LinkedIn', 'Apple', 'Oracle', 'IBM', 'Microsoft', 'Pinterest', 'Snapchat', 'Google', 'Amazon', 'Facebook'}\n",
      "it_companies after removing Oracle: {'Twitter', 'LinkedIn', 'Apple', 'IBM', 'Microsoft', 'Pinterest', 'Snapchat', 'Google', 'Amazon', 'Facebook'}\n"
     ]
    }
   ],
   "source": [
    "#4. Set Operations\n",
    "\n",
    "it_companies = {'Facebook', 'Google', 'Microsoft', 'Apple', 'IBM', 'Oracle', 'Amazon'}\n",
    "A = {19, 22, 24, 20, 25, 26}\n",
    "B = {19, 22, 20, 25, 26, 24, 28, 27}\n",
    "\n",
    "# I. Find the length of the set it_companies\n",
    "print(\"Length of it_companies:\", len(it_companies))\n",
    "\n",
    "# II. Add 'Twitter' to it_companies\n",
    "it_companies.add('Twitter')\n",
    "print(\"it_companies after adding Twitter:\", it_companies)\n",
    "\n",
    "# III. Insert multiple IT companies at once to the set it_companies\n",
    "it_companies.update(['Snapchat', 'LinkedIn', 'Pinterest'])\n",
    "print(\"it_companies after adding multiple companies:\", it_companies)\n",
    "\n",
    "# IV. Remove one of the companies from the set it_companies\n",
    "it_companies.remove('Oracle')\n",
    "print(\"it_companies after removing Oracle:\", it_companies)\n",
    "\n",
    "# V. Difference between remove and discard\n",
    "# remove() will raise an error if the element is not found\n",
    "# discard() will not raise an error if the element is not found\n"
   ]
  },
  {
   "cell_type": "code",
   "execution_count": 5,
   "id": "6b960ab4",
   "metadata": {},
   "outputs": [
    {
     "name": "stdout",
     "output_type": "stream",
     "text": [
      "A union B: {19, 20, 22, 24, 25, 26, 27, 28}\n",
      "A intersection B: {19, 20, 22, 24, 25, 26}\n",
      "Is A subset of B: True\n",
      "Are A and B disjoint: False\n",
      "A after joining with B: {19, 20, 22, 24, 25, 26, 27, 28}\n",
      "B after joining with A: {19, 20, 22, 24, 25, 26, 27, 28}\n",
      "Symmetric difference between A and B: set()\n"
     ]
    }
   ],
   "source": [
    "#5. Set Operations on A and B\n",
    "\n",
    "# I. Join A and B\n",
    "C = A.union(B)\n",
    "print(\"A union B:\", C)\n",
    "\n",
    "# II. Find A intersection B\n",
    "D = A.intersection(B)\n",
    "print(\"A intersection B:\", D)\n",
    "\n",
    "# III. Is A subset of B\n",
    "print(\"Is A subset of B:\", A.issubset(B))\n",
    "\n",
    "# IV. Are A and B disjoint sets\n",
    "print(\"Are A and B disjoint:\", A.isdisjoint(B))\n",
    "\n",
    "# V. Join A with B and B with A\n",
    "A.update(B)\n",
    "print(\"A after joining with B:\", A)\n",
    "B.update(A)\n",
    "print(\"B after joining with A:\", B)\n",
    "\n",
    "# VI. What is the symmetric difference between A and B\n",
    "sym_diff = A.symmetric_difference(B)\n",
    "print(\"Symmetric difference between A and B:\", sym_diff)\n",
    "\n",
    "# VII. Delete the sets completely\n",
    "del A, B\n"
   ]
  },
  {
   "cell_type": "code",
   "execution_count": 6,
   "id": "c9bfe0d1",
   "metadata": {},
   "outputs": [
    {
     "name": "stdout",
     "output_type": "stream",
     "text": [
      "{'name': 'Buddy', 'color': 'Brown', 'breed': 'Labrador', 'legs': 4, 'age': 5}\n"
     ]
    }
   ],
   "source": [
    "#6. Dog Dictionary\n",
    "\n",
    "dog = {}\n",
    "\n",
    "dog['name'] = 'Buddy'\n",
    "dog['color'] = 'Brown'\n",
    "dog['breed'] = 'Labrador'\n",
    "dog['legs'] = 4\n",
    "dog['age'] = 5\n",
    "\n",
    "print(dog)"
   ]
  },
  {
   "cell_type": "code",
   "execution_count": 7,
   "id": "5148c9bb",
   "metadata": {},
   "outputs": [
    {
     "name": "stdout",
     "output_type": "stream",
     "text": [
      "Length of student dictionary: 9\n",
      "Skills: ['Python', 'Machine Learning']\n",
      "Data type of skills: <class 'list'>\n",
      "Updated skills: ['Python', 'Machine Learning', 'Data Science', 'Deep Learning']\n",
      "Keys: ['first_name', 'last_name', 'gender', 'age', 'marital_status', 'skills', 'country', 'city', 'address']\n",
      "Values: ['John', 'Doe', 'Male', 20, 'Single', ['Python', 'Machine Learning', 'Data Science', 'Deep Learning'], 'USA', 'New York', '123 Main St']\n",
      "Dictionary as list of tuples: [('first_name', 'John'), ('last_name', 'Doe'), ('gender', 'Male'), ('age', 20), ('marital_status', 'Single'), ('skills', ['Python', 'Machine Learning', 'Data Science', 'Deep Learning']), ('country', 'USA'), ('city', 'New York'), ('address', '123 Main St')]\n",
      "Student dictionary after deleting address: {'first_name': 'John', 'last_name': 'Doe', 'gender': 'Male', 'age': 20, 'marital_status': 'Single', 'skills': ['Python', 'Machine Learning', 'Data Science', 'Deep Learning'], 'country': 'USA', 'city': 'New York'}\n"
     ]
    }
   ],
   "source": [
    "#7. Student Dictionary\n",
    "\n",
    "# Create a student dictionary\n",
    "student = {\n",
    "    'first_name': 'John',\n",
    "    'last_name': 'Doe',\n",
    "    'gender': 'Male',\n",
    "    'age': 20,\n",
    "    'marital_status': 'Single',\n",
    "    'skills': ['Python', 'Machine Learning'],\n",
    "    'country': 'USA',\n",
    "    'city': 'New York',\n",
    "    'address': '123 Main St'\n",
    "}\n",
    "\n",
    "# I. Get the length of the student dictionary\n",
    "print(\"Length of student dictionary:\", len(student))\n",
    "\n",
    "# II. Get the value of skills and check the data type, it should be a list\n",
    "skills = student.get('skills')\n",
    "print(\"Skills:\", skills)\n",
    "print(\"Data type of skills:\", type(skills))\n",
    "\n",
    "# III. Modify the skills values by adding one or two skills\n",
    "student['skills'].extend(['Data Science', 'Deep Learning'])\n",
    "print(\"Updated skills:\", student['skills'])\n",
    "\n",
    "# IV. Get the dictionary keys as a list\n",
    "keys = list(student.keys())\n",
    "print(\"Keys:\", keys)\n",
    "\n",
    "# V. Get the dictionary values as a list\n",
    "values = list(student.values())\n",
    "print(\"Values:\", values)\n",
    "\n",
    "# VI. Change the dictionary to a list of tuples using items() method\n",
    "items = list(student.items())\n",
    "print(\"Dictionary as list of tuples:\", items)\n",
    "\n",
    "# VII. Delete one of the items in the dictionary\n",
    "student.pop('address')\n",
    "print(\"Student dictionary after deleting address:\", student)\n",
    "\n",
    "# VIII. Delete one of the dictionaries\n",
    "del student\n",
    "\n"
   ]
  },
  {
   "cell_type": "code",
   "execution_count": 8,
   "id": "1deff8c8",
   "metadata": {},
   "outputs": [
    {
     "name": "stdout",
     "output_type": "stream",
     "text": [
      "Middle skill: Node\n",
      "Has Python skill: True\n",
      "He is a backend developer\n",
      "Asabeneh Yetayeh lives in Finland. He is married.\n"
     ]
    }
   ],
   "source": [
    "#8. Person Dictionary Operations\n",
    "\n",
    "person = {\n",
    "    'first_name': 'Asabeneh',\n",
    "    'last_name': 'Yetayeh',\n",
    "    'age': 250,\n",
    "    'country': 'Finland',\n",
    "    'is_marred': True,\n",
    "    'skills': ['JavaScript', 'React', 'Node', 'MongoDB', 'Python'],\n",
    "    'address': {\n",
    "        'street': 'Space street',\n",
    "        'zipcode': '02210'\n",
    "    }\n",
    "}\n",
    "\n",
    "# I. Check if the person dictionary has skills key, if so print out the middle skill in the skills list.\n",
    "if 'skills' in person:\n",
    "    skills = person['skills']\n",
    "    middle_index = len(skills) // 2\n",
    "    middle_skill = skills[middle_index]\n",
    "    print(\"Middle skill:\", middle_skill)\n",
    "\n",
    "# II. Check if the person dictionary has skills key, if so check if the person has 'Python' skill and print out the result.\n",
    "if 'skills' in person:\n",
    "    has_python = 'Python' in person['skills']\n",
    "    print(\"Has Python skill:\", has_python)\n",
    "\n",
    "# III. Determine the person's job title based on skills\n",
    "if set(person['skills']) == {'JavaScript', 'React'}:\n",
    "    print(\"He is a front end developer\")\n",
    "elif set(person['skills']).issuperset({'Node', 'Python', 'MongoDB'}):\n",
    "    print(\"He is a backend developer\")\n",
    "elif set(person['skills']).issuperset({'React', 'Node', 'MongoDB'}):\n",
    "    print(\"He is a fullstack developer\")\n",
    "else:\n",
    "    print(\"Unknown title\")\n",
    "\n",
    "# IV. If the person is married and if he lives in Finland, print the information in the following format:\n",
    "if person.get('is_marred') and person.get('country') == 'Finland':\n",
    "    print(f\"{person['first_name']} {person['last_name']} lives in Finland. He is married.\")\n"
   ]
  },
  {
   "cell_type": "code",
   "execution_count": 9,
   "id": "4c06ea8c",
   "metadata": {},
   "outputs": [
    {
     "name": "stdout",
     "output_type": "stream",
     "text": [
      "Season: Summer\n"
     ]
    }
   ],
   "source": [
    "#9. Season Name Based on Month Number\n",
    "\n",
    "seasons = {\n",
    "    1: 'Winter', 2: 'Winter', 3: 'Spring',\n",
    "    4: 'Spring', 5: 'Spring', 6: 'Summer',\n",
    "    7: 'Summer', 8: 'Summer', 9: 'Autumn',\n",
    "    10: 'Autumn', 11: 'Autumn', 12: 'Winter'\n",
    "}\n",
    "\n",
    "month_number = 8\n",
    "\n",
    "season_name = seasons.get(month_number, \"Invalid month number\")\n",
    "print(\"Season:\", season_name)\n"
   ]
  },
  {
   "cell_type": "code",
   "execution_count": null,
   "id": "943b7f21",
   "metadata": {},
   "outputs": [],
   "source": []
  }
 ],
 "metadata": {
  "kernelspec": {
   "display_name": "Python 3 (ipykernel)",
   "language": "python",
   "name": "python3"
  },
  "language_info": {
   "codemirror_mode": {
    "name": "ipython",
    "version": 3
   },
   "file_extension": ".py",
   "mimetype": "text/x-python",
   "name": "python",
   "nbconvert_exporter": "python",
   "pygments_lexer": "ipython3",
   "version": "3.11.7"
  }
 },
 "nbformat": 4,
 "nbformat_minor": 5
}
